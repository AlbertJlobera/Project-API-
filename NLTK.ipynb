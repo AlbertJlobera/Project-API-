{
 "cells": [
  {
   "cell_type": "code",
   "execution_count": 1,
   "metadata": {},
   "outputs": [
    {
     "data": {
      "text/plain": [
       "['The match was awesome, Barça won again',\n",
       " 'I love Barça and futbol in general, I think all of them are playing really good. You are awesome guys! I love you! Goodnight :)',\n",
       " 'Messi is shit, real Madrid is much better',\n",
       " 'I really hate Barça they don´t even know how to play!',\n",
       " 'They are amazing, Messi is playing so good in this season']"
      ]
     },
     "execution_count": 1,
     "metadata": {},
     "output_type": "execute_result"
    }
   ],
   "source": [
    "import requests\n",
    "import json\n",
    "\n",
    "x = requests.get('http://localhost:3500/chat/Sports/list').json()\n",
    "\n",
    "x"
   ]
  },
  {
   "cell_type": "code",
   "execution_count": 2,
   "metadata": {},
   "outputs": [
    {
     "name": "stderr",
     "output_type": "stream",
     "text": [
      "[nltk_data] Error loading vader_lexicon: <urlopen error [SSL:\n",
      "[nltk_data]     CERTIFICATE_VERIFY_FAILED] certificate verify failed:\n",
      "[nltk_data]     unable to get local issuer certificate (_ssl.c:1108)>\n"
     ]
    }
   ],
   "source": [
    "import nltk\n",
    "from nltk.sentiment.vader import SentimentIntensityAnalyzer\n",
    "nltk.download(\"vader_lexicon\")\n",
    "sia = SentimentIntensityAnalyzer()"
   ]
  },
  {
   "cell_type": "code",
   "execution_count": 3,
   "metadata": {},
   "outputs": [
    {
     "data": {
      "text/plain": [
       "{'neg': 0.0, 'neu': 0.432, 'pos': 0.568, 'compound': 0.9686}"
      ]
     },
     "execution_count": 3,
     "metadata": {},
     "output_type": "execute_result"
    }
   ],
   "source": [
    "sia.polarity_scores(x[1])"
   ]
  },
  {
   "cell_type": "code",
   "execution_count": 4,
   "metadata": {},
   "outputs": [
    {
     "name": "stdout",
     "output_type": "stream",
     "text": [
      "{'neg': 0.0, 'neu': 0.391, 'pos': 0.609, 'compound': 0.8316}\n",
      "{'neg': 0.0, 'neu': 0.432, 'pos': 0.568, 'compound': 0.9686}\n",
      "{'neg': 0.288, 'neu': 0.48, 'pos': 0.232, 'compound': -0.1779}\n",
      "{'neg': 0.292, 'neu': 0.545, 'pos': 0.163, 'compound': -0.4376}\n",
      "{'neg': 0.0, 'neu': 0.461, 'pos': 0.539, 'compound': 0.8534}\n"
     ]
    }
   ],
   "source": [
    "for e in x:\n",
    "    print(sia.polarity_scores(e))"
   ]
  },
  {
   "cell_type": "code",
   "execution_count": 25,
   "metadata": {},
   "outputs": [
    {
     "ename": "TypeError",
     "evalue": "'function' object is not iterable",
     "output_type": "error",
     "traceback": [
      "\u001b[0;31m---------------------------------------------------------------------------\u001b[0m",
      "\u001b[0;31mTypeError\u001b[0m                                 Traceback (most recent call last)",
      "\u001b[0;32m<ipython-input-25-0d3aeba084e1>\u001b[0m in \u001b[0;36m<module>\u001b[0;34m\u001b[0m\n\u001b[1;32m      4\u001b[0m         \u001b[0ma\u001b[0m\u001b[0;34m.\u001b[0m\u001b[0mappend\u001b[0m\u001b[0;34m(\u001b[0m\u001b[0msia\u001b[0m\u001b[0;34m.\u001b[0m\u001b[0mpolarity_scores\u001b[0m\u001b[0;34m(\u001b[0m\u001b[0msentence\u001b[0m\u001b[0;34m)\u001b[0m\u001b[0;34m)\u001b[0m\u001b[0;34m\u001b[0m\u001b[0;34m\u001b[0m\u001b[0m\n\u001b[1;32m      5\u001b[0m     \u001b[0;32mreturn\u001b[0m \u001b[0ma\u001b[0m\u001b[0;34m\u001b[0m\u001b[0;34m\u001b[0m\u001b[0m\n\u001b[0;32m----> 6\u001b[0;31m \u001b[0mprint\u001b[0m\u001b[0;34m(\u001b[0m\u001b[0mlist\u001b[0m\u001b[0;34m(\u001b[0m\u001b[0mholi\u001b[0m\u001b[0;34m)\u001b[0m\u001b[0;34m)\u001b[0m\u001b[0;34m\u001b[0m\u001b[0;34m\u001b[0m\u001b[0m\n\u001b[0m",
      "\u001b[0;31mTypeError\u001b[0m: 'function' object is not iterable"
     ]
    }
   ],
   "source": [
    "def holi(): \n",
    "    a=[]\n",
    "    for sentence in x:\n",
    "        a.append(sia.polarity_scores(sentence))\n",
    "    return a\n",
    "print(list(holi))"
   ]
  },
  {
   "cell_type": "code",
   "execution_count": 59,
   "metadata": {},
   "outputs": [
    {
     "data": {
      "text/plain": [
       "{'compound': 0.8316, 'neg': 0.0, 'neu': 0.391, 'pos': 0.609}"
      ]
     },
     "execution_count": 59,
     "metadata": {},
     "output_type": "execute_result"
    }
   ],
   "source": [
    "x = requests.get('http://localhost:3500/chat/Sports/sentiment').json()\n",
    "x"
   ]
  },
  {
   "cell_type": "code",
   "execution_count": 52,
   "metadata": {},
   "outputs": [
    {
     "name": "stdout",
     "output_type": "stream",
     "text": [
      "The match was awesome, Barça won again\n",
      "I love Barça and futbol in general, I think all of them are playing really good. You are awesome guys! I love you! Goodnight :)\n",
      "Messi is shit, real Madrid is much better\n",
      "I really hate Barça they don´t even know how to play!\n",
      "They are amazing, Messi is playing so good in this season\n"
     ]
    },
    {
     "data": {
      "text/plain": [
       "[{'neg': 0.0, 'neu': 0.391, 'pos': 0.609, 'compound': 0.8316},\n",
       " {'neg': 0.0, 'neu': 0.432, 'pos': 0.568, 'compound': 0.9686},\n",
       " {'neg': 0.288, 'neu': 0.48, 'pos': 0.232, 'compound': -0.1779},\n",
       " {'neg': 0.292, 'neu': 0.545, 'pos': 0.163, 'compound': -0.4376},\n",
       " {'neg': 0.0, 'neu': 0.461, 'pos': 0.539, 'compound': 0.8534}]"
      ]
     },
     "execution_count": 52,
     "metadata": {},
     "output_type": "execute_result"
    }
   ],
   "source": [
    "z=[]\n",
    "for e in x:\n",
    "    print(e)\n",
    "    z.append(sia.polarity_scores(e))\n",
    "z"
   ]
  }
 ],
 "metadata": {
  "kernelspec": {
   "display_name": "Python 3",
   "language": "python",
   "name": "python3"
  },
  "language_info": {
   "codemirror_mode": {
    "name": "ipython",
    "version": 3
   },
   "file_extension": ".py",
   "mimetype": "text/x-python",
   "name": "python",
   "nbconvert_exporter": "python",
   "pygments_lexer": "ipython3",
   "version": "3.8.2"
  }
 },
 "nbformat": 4,
 "nbformat_minor": 4
}
